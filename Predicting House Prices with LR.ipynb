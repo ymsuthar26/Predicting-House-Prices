{
 "cells": [
  {
   "cell_type": "code",
   "execution_count": 2,
   "id": "3c79d718-b364-4535-8db5-cca5b73b50e8",
   "metadata": {},
   "outputs": [],
   "source": [
    "import numpy as np\n",
    "import pandas as pd\n",
    "import matplotlib.pyplot as plt\n",
    "import seaborn as sns\n",
    "\n",
    "import scipy.stats as st\n",
    "import warnings\n",
    "warnings.filterwarnings('ignore')\n",
    "\n"
   ]
  },
  {
   "cell_type": "code",
   "execution_count": 3,
   "id": "71125f2e-f921-4366-b263-76c2b4ec3857",
   "metadata": {},
   "outputs": [],
   "source": [
    "df=pd.read_csv('C:\\\\Users\\\\ADMIN\\\\Desktop\\\\yogesh notebook\\\\USA_Housing.csv',encoding='latin1')"
   ]
  },
  {
   "cell_type": "code",
   "execution_count": 4,
   "id": "4a5e1298-b212-465e-b1b0-24a8d01cae6c",
   "metadata": {},
   "outputs": [
    {
     "data": {
      "text/html": [
       "<div>\n",
       "<style scoped>\n",
       "    .dataframe tbody tr th:only-of-type {\n",
       "        vertical-align: middle;\n",
       "    }\n",
       "\n",
       "    .dataframe tbody tr th {\n",
       "        vertical-align: top;\n",
       "    }\n",
       "\n",
       "    .dataframe thead th {\n",
       "        text-align: right;\n",
       "    }\n",
       "</style>\n",
       "<table border=\"1\" class=\"dataframe\">\n",
       "  <thead>\n",
       "    <tr style=\"text-align: right;\">\n",
       "      <th></th>\n",
       "      <th>Avg. Area Income</th>\n",
       "      <th>Avg. Area House Age</th>\n",
       "      <th>Avg. Area Number of Rooms</th>\n",
       "      <th>Avg. Area Number of Bedrooms</th>\n",
       "      <th>Area Population</th>\n",
       "      <th>Price</th>\n",
       "    </tr>\n",
       "  </thead>\n",
       "  <tbody>\n",
       "    <tr>\n",
       "      <th>0</th>\n",
       "      <td>79545.45857</td>\n",
       "      <td>5.682861</td>\n",
       "      <td>7.009188</td>\n",
       "      <td>4.09</td>\n",
       "      <td>23086.80050</td>\n",
       "      <td>1.059034e+06</td>\n",
       "    </tr>\n",
       "    <tr>\n",
       "      <th>1</th>\n",
       "      <td>79248.64245</td>\n",
       "      <td>6.002900</td>\n",
       "      <td>6.730821</td>\n",
       "      <td>3.09</td>\n",
       "      <td>40173.07217</td>\n",
       "      <td>1.505891e+06</td>\n",
       "    </tr>\n",
       "    <tr>\n",
       "      <th>2</th>\n",
       "      <td>61287.06718</td>\n",
       "      <td>5.865890</td>\n",
       "      <td>8.512727</td>\n",
       "      <td>5.13</td>\n",
       "      <td>36882.15940</td>\n",
       "      <td>1.058988e+06</td>\n",
       "    </tr>\n",
       "    <tr>\n",
       "      <th>3</th>\n",
       "      <td>63345.24005</td>\n",
       "      <td>7.188236</td>\n",
       "      <td>5.586729</td>\n",
       "      <td>3.26</td>\n",
       "      <td>34310.24283</td>\n",
       "      <td>1.260617e+06</td>\n",
       "    </tr>\n",
       "    <tr>\n",
       "      <th>4</th>\n",
       "      <td>59982.19723</td>\n",
       "      <td>5.040555</td>\n",
       "      <td>7.839388</td>\n",
       "      <td>4.23</td>\n",
       "      <td>26354.10947</td>\n",
       "      <td>6.309435e+05</td>\n",
       "    </tr>\n",
       "    <tr>\n",
       "      <th>...</th>\n",
       "      <td>...</td>\n",
       "      <td>...</td>\n",
       "      <td>...</td>\n",
       "      <td>...</td>\n",
       "      <td>...</td>\n",
       "      <td>...</td>\n",
       "    </tr>\n",
       "    <tr>\n",
       "      <th>4995</th>\n",
       "      <td>60567.94414</td>\n",
       "      <td>7.830362</td>\n",
       "      <td>6.137356</td>\n",
       "      <td>3.46</td>\n",
       "      <td>22837.36103</td>\n",
       "      <td>1.060194e+06</td>\n",
       "    </tr>\n",
       "    <tr>\n",
       "      <th>4996</th>\n",
       "      <td>78491.27543</td>\n",
       "      <td>6.999135</td>\n",
       "      <td>6.576763</td>\n",
       "      <td>4.02</td>\n",
       "      <td>25616.11549</td>\n",
       "      <td>1.482618e+06</td>\n",
       "    </tr>\n",
       "    <tr>\n",
       "      <th>4997</th>\n",
       "      <td>63390.68689</td>\n",
       "      <td>7.250591</td>\n",
       "      <td>4.805081</td>\n",
       "      <td>2.13</td>\n",
       "      <td>33266.14549</td>\n",
       "      <td>1.030730e+06</td>\n",
       "    </tr>\n",
       "    <tr>\n",
       "      <th>4998</th>\n",
       "      <td>68001.33124</td>\n",
       "      <td>5.534388</td>\n",
       "      <td>7.130144</td>\n",
       "      <td>5.44</td>\n",
       "      <td>42625.62016</td>\n",
       "      <td>1.198657e+06</td>\n",
       "    </tr>\n",
       "    <tr>\n",
       "      <th>4999</th>\n",
       "      <td>65510.58180</td>\n",
       "      <td>5.992305</td>\n",
       "      <td>6.792336</td>\n",
       "      <td>4.07</td>\n",
       "      <td>46501.28380</td>\n",
       "      <td>1.298950e+06</td>\n",
       "    </tr>\n",
       "  </tbody>\n",
       "</table>\n",
       "<p>5000 rows × 6 columns</p>\n",
       "</div>"
      ],
      "text/plain": [
       "      Avg. Area Income  Avg. Area House Age  Avg. Area Number of Rooms  \\\n",
       "0          79545.45857             5.682861                   7.009188   \n",
       "1          79248.64245             6.002900                   6.730821   \n",
       "2          61287.06718             5.865890                   8.512727   \n",
       "3          63345.24005             7.188236                   5.586729   \n",
       "4          59982.19723             5.040555                   7.839388   \n",
       "...                ...                  ...                        ...   \n",
       "4995       60567.94414             7.830362                   6.137356   \n",
       "4996       78491.27543             6.999135                   6.576763   \n",
       "4997       63390.68689             7.250591                   4.805081   \n",
       "4998       68001.33124             5.534388                   7.130144   \n",
       "4999       65510.58180             5.992305                   6.792336   \n",
       "\n",
       "      Avg. Area Number of Bedrooms  Area Population         Price  \n",
       "0                             4.09      23086.80050  1.059034e+06  \n",
       "1                             3.09      40173.07217  1.505891e+06  \n",
       "2                             5.13      36882.15940  1.058988e+06  \n",
       "3                             3.26      34310.24283  1.260617e+06  \n",
       "4                             4.23      26354.10947  6.309435e+05  \n",
       "...                            ...              ...           ...  \n",
       "4995                          3.46      22837.36103  1.060194e+06  \n",
       "4996                          4.02      25616.11549  1.482618e+06  \n",
       "4997                          2.13      33266.14549  1.030730e+06  \n",
       "4998                          5.44      42625.62016  1.198657e+06  \n",
       "4999                          4.07      46501.28380  1.298950e+06  \n",
       "\n",
       "[5000 rows x 6 columns]"
      ]
     },
     "execution_count": 4,
     "metadata": {},
     "output_type": "execute_result"
    }
   ],
   "source": [
    "df"
   ]
  },
  {
   "cell_type": "code",
   "execution_count": null,
   "id": "07e55353-09fb-4d6e-95dd-9609bcb55d9e",
   "metadata": {},
   "outputs": [],
   "source": [
    "df.info()"
   ]
  },
  {
   "cell_type": "code",
   "execution_count": null,
   "id": "ec9e6560-092f-49b9-aff1-8a232e9d1a26",
   "metadata": {},
   "outputs": [],
   "source": [
    "df.head(3)"
   ]
  },
  {
   "cell_type": "code",
   "execution_count": null,
   "id": "8243796b-4b83-4f5a-a78d-43d5c2ae8717",
   "metadata": {},
   "outputs": [],
   "source": [
    "df.tail(3)"
   ]
  },
  {
   "cell_type": "code",
   "execution_count": null,
   "id": "e88360cc-ea57-4167-a8a2-fc616383bc7f",
   "metadata": {},
   "outputs": [],
   "source": [
    "df.describe()"
   ]
  },
  {
   "cell_type": "code",
   "execution_count": null,
   "id": "f8bcfffb-b2fd-4634-9bd7-4da96e25b459",
   "metadata": {},
   "outputs": [],
   "source": [
    "df.columns"
   ]
  },
  {
   "cell_type": "code",
   "execution_count": null,
   "id": "9d972a7b-cf17-4c8d-b52c-3de57729d2e8",
   "metadata": {},
   "outputs": [],
   "source": [
    "import Omkar_statistics"
   ]
  },
  {
   "cell_type": "code",
   "execution_count": null,
   "id": "9a96a304-4cd2-4a0e-ba5c-9665df07988f",
   "metadata": {},
   "outputs": [],
   "source": [
    "df.isnull().sum()"
   ]
  },
  {
   "cell_type": "code",
   "execution_count": null,
   "id": "8c59da2a-c4ff-478a-a701-e3da6eef2745",
   "metadata": {},
   "outputs": [],
   "source": [
    "for col_name in df.columns:\n",
    "    Omkar_statistics.cal_stats(col_name,df[col_name])\n",
    "    print(\"_\"*50)"
   ]
  },
  {
   "cell_type": "code",
   "execution_count": null,
   "id": "e30ebca4-597d-4cdc-8df7-8835ca1c150f",
   "metadata": {},
   "outputs": [],
   "source": [
    "for col_name in df.columns:\n",
    "    print(col_name)\n",
    "    sns.kdeplot(df[col_name])\n",
    "    plt.show()"
   ]
  },
  {
   "cell_type": "code",
   "execution_count": null,
   "id": "db8c579c-8957-492c-85bb-1b3d6e48e0da",
   "metadata": {},
   "outputs": [],
   "source": [
    "for col_name in df.columns:\n",
    "    print(col_name)\n",
    "    sns.displot(df[col_name])\n",
    "    plt.show()"
   ]
  },
  {
   "cell_type": "code",
   "execution_count": null,
   "id": "63aefd70-4cd6-4ba1-a200-b1a50e27dce2",
   "metadata": {},
   "outputs": [],
   "source": [
    "for col_name in df.columns:\n",
    "    print(col_name)\n",
    "    sns.violinplot(df[col_name])\n",
    "    plt.show()"
   ]
  },
  {
   "cell_type": "code",
   "execution_count": null,
   "id": "cdeeda78-55e8-4575-8629-670d67f1846d",
   "metadata": {},
   "outputs": [],
   "source": [
    "sns.heatmap(df.corr(),annot=True,cmap=\"coolwarm\",vmin=1,vmax=1)\n",
    "plt.show()"
   ]
  },
  {
   "cell_type": "code",
   "execution_count": null,
   "id": "f27a7e13-2a7d-4650-9b67-baeba1d5dd18",
   "metadata": {},
   "outputs": [],
   "source": [
    "x=df.drop(\"Price\",axis=1)\n",
    "y=df[\"Price\"]"
   ]
  },
  {
   "cell_type": "code",
   "execution_count": null,
   "id": "0551876d-2758-4e5b-8eb0-f4b01951ddc1",
   "metadata": {},
   "outputs": [],
   "source": [
    "x"
   ]
  },
  {
   "cell_type": "code",
   "execution_count": null,
   "id": "18ab0c5b-7b6e-43d1-bd5b-9c72b0142939",
   "metadata": {},
   "outputs": [],
   "source": [
    "y"
   ]
  },
  {
   "cell_type": "code",
   "execution_count": null,
   "id": "2f1625fe-f673-4a55-9d2e-624fb50e1adb",
   "metadata": {},
   "outputs": [],
   "source": [
    "# cross validation\n",
    "#TRAINING DATA X AND Y \n",
    "#TESTING DATA X\n",
    "from sklearn.model_selection import train_test_split"
   ]
  },
  {
   "cell_type": "code",
   "execution_count": null,
   "id": "803170d4-66cf-4bcf-8136-1b379e0bbb39",
   "metadata": {},
   "outputs": [],
   "source": [
    "x_train,x_test,y_train,y_test=train_test_split(x,y,test_size=0.2)"
   ]
  },
  {
   "cell_type": "code",
   "execution_count": null,
   "id": "2c135142-484d-442d-b8ae-db09dd1dd1ad",
   "metadata": {},
   "outputs": [],
   "source": [
    "len(x)"
   ]
  },
  {
   "cell_type": "code",
   "execution_count": null,
   "id": "63191102-bf12-4e9e-9c41-8e1a50d5b397",
   "metadata": {},
   "outputs": [],
   "source": [
    "len(y)"
   ]
  },
  {
   "cell_type": "code",
   "execution_count": null,
   "id": "9c825f93-14e5-4432-b7e5-b469e23d88ed",
   "metadata": {},
   "outputs": [],
   "source": [
    "len(x_train)"
   ]
  },
  {
   "cell_type": "code",
   "execution_count": null,
   "id": "ce7a9581-ebb2-490c-9e15-eef5adce2dc1",
   "metadata": {},
   "outputs": [],
   "source": [
    "len(x_test)"
   ]
  },
  {
   "cell_type": "code",
   "execution_count": null,
   "id": "06cae711-2cb5-4343-b59f-18c4ff9d517c",
   "metadata": {},
   "outputs": [],
   "source": [
    "len(y_train)"
   ]
  },
  {
   "cell_type": "code",
   "execution_count": null,
   "id": "b14f378c-5387-4883-b2ac-f685c5d9554c",
   "metadata": {},
   "outputs": [],
   "source": [
    "len(y_test)"
   ]
  },
  {
   "cell_type": "code",
   "execution_count": null,
   "id": "243ff09c-41bf-4868-bc35-22c5f9b092fe",
   "metadata": {},
   "outputs": [],
   "source": [
    "from sklearn.linear_model import LinearRegression"
   ]
  },
  {
   "cell_type": "code",
   "execution_count": null,
   "id": "4b42a302-4f11-4de8-be89-c5bd8d74551e",
   "metadata": {},
   "outputs": [],
   "source": [
    "# 5 ---m slope\n",
    "# 1 --- y intercept\n",
    "#y=price\n",
    "# y=m1x1+m2x2+m3x3+m4x4+m5x5+c"
   ]
  },
  {
   "cell_type": "code",
   "execution_count": null,
   "id": "fbdbe113-eda7-4d25-9765-e4949500657a",
   "metadata": {},
   "outputs": [],
   "source": [
    "lr=LinearRegression()"
   ]
  },
  {
   "cell_type": "code",
   "execution_count": null,
   "id": "b15b10c5-fdff-4eb0-9102-801342f37db0",
   "metadata": {},
   "outputs": [],
   "source": [
    "lr.fit(x_train,y_train)"
   ]
  },
  {
   "cell_type": "code",
   "execution_count": null,
   "id": "f6a9df71-97fc-4cc0-aec5-e040c405f97d",
   "metadata": {},
   "outputs": [],
   "source": [
    "lr.coef_"
   ]
  },
  {
   "cell_type": "code",
   "execution_count": null,
   "id": "e5df7cf8-e335-4849-ab89-f4399aa4a4ca",
   "metadata": {},
   "outputs": [],
   "source": [
    "lr.intercept_"
   ]
  },
  {
   "cell_type": "code",
   "execution_count": null,
   "id": "c861bbcb-6e3e-46c3-9202-a06ceb7e88fd",
   "metadata": {},
   "outputs": [],
   "source": [
    "y_pred=lr.predict(x_test)\n",
    "y_pred"
   ]
  },
  {
   "cell_type": "code",
   "execution_count": null,
   "id": "08230895-a9aa-4611-8ebc-cc1f37ee34ed",
   "metadata": {},
   "outputs": [],
   "source": [
    "# sum of squared error\n",
    "\n",
    "sse=sum((y_pred-y_test)**2)\n",
    "print('sum of squared error',sse)\n",
    "\n",
    "# mean of squared error\n",
    "mse=sum((y_pred-y_test)**2)/1000\n",
    "print('mean of squared error',mse)\n",
    "\n",
    "# root of mean squared error\n",
    "rmse=np.sqrt(sum((y_pred-y_test)**2)/1000)\n",
    "print('root of mean squared error',rmse)"
   ]
  },
  {
   "cell_type": "code",
   "execution_count": null,
   "id": "de3e3763-8b47-4460-a852-7848e717d93a",
   "metadata": {},
   "outputs": [],
   "source": [
    "df[\"Price\"].mean()\n"
   ]
  },
  {
   "cell_type": "code",
   "execution_count": 35,
   "id": "553549b7-e8e1-49bb-8bac-81817a5c4b10",
   "metadata": {},
   "outputs": [
    {
     "data": {
      "text/plain": [
       "<seaborn.axisgrid.FacetGrid at 0x25eff4e1fa0>"
      ]
     },
     "execution_count": 35,
     "metadata": {},
     "output_type": "execute_result"
    },
    {
     "data": {
      "image/png": "[encoded data removed]",
      "text/plain": [
       "<Figure size 500x500 with 1 Axes>"
      ]
     },
     "metadata": {},
     "output_type": "display_data"
    }
   ],
   "source": [
    "sns.displot(y_pred-y_test)"
   ]
  },
  {
   "cell_type": "markdown",
   "id": "23881ffd-e9f9-4e30-9ff8-b363deaf8e59",
   "metadata": {},
   "source": [
    "# Assumptio\n"
   ]
  },
  {
   "cell_type": "markdown",
   "id": "8fb3f695-2273-42ef-afcd-0f98cc3bdd2f",
   "metadata": {},
   "source": [
    "If the average income, house age, number of rooms, number of bedrooms, and population in a given area are known, \n",
    "then it is possible to predict the price at which a house can be sold or purchased."
   ]
  },
  {
   "cell_type": "code",
   "execution_count": null,
   "id": "4b746bd8-9a38-4963-98d8-bf129b3f3dfd",
   "metadata": {},
   "outputs": [],
   "source": []
  }
 ],
 "metadata": {
  "kernelspec": {
   "display_name": "Python 3 (ipykernel)",
   "language": "python",
   "name": "python3"
  },
  "language_info": {
   "codemirror_mode": {
    "name": "ipython",
    "version": 3
   },
   "file_extension": ".py",
   "mimetype": "text/x-python",
   "name": "python",
   "nbconvert_exporter": "python",
   "pygments_lexer": "ipython3",
   "version": "3.12.7"
  }
 },
 "nbformat": 4,
 "nbformat_minor": 5
}
